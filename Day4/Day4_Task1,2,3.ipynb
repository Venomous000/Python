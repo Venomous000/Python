{
 "cells": [
  {
   "cell_type": "code",
   "execution_count": 2,
   "id": "f3a46186-a04f-4cb2-b94f-dffe51d05068",
   "metadata": {},
   "outputs": [
    {
     "name": "stdout",
     "output_type": "stream",
     "text": [
      "[1, 1, 2, 3]\n"
     ]
    }
   ],
   "source": [
    "######################################################## TASK 1 ############################################################\n",
    "\n",
    "#Including Extra\n",
    "a=[1, 1, 2, 3, 5, 8, 13, 21, 34, 55, 89]\n",
    "b=[]\n",
    "for i in a:\n",
    "    if i<5:\n",
    "        b.append(i)\n",
    "print(b)"
   ]
  },
  {
   "cell_type": "code",
   "execution_count": 1,
   "id": "77937536-974d-4dc8-81b4-941a36c3406f",
   "metadata": {},
   "outputs": [
    {
     "name": "stdout",
     "output_type": "stream",
     "text": [
      "[1, 1, 2, 3]\n"
     ]
    }
   ],
   "source": [
    "######################################################## TASK 1 ############################################################\n",
    "\n",
    "#Including Extra\n",
    "b=[i for i in a if i < 5] #used comprehensive listing\n",
    "print(b)"
   ]
  },
  {
   "cell_type": "code",
   "execution_count": 3,
   "id": "9ad6872e-4771-4bc0-af4d-416f430077e1",
   "metadata": {},
   "outputs": [
    {
     "name": "stdin",
     "output_type": "stream",
     "text": [
      "\n",
      "Enter a number:  33\n"
     ]
    },
    {
     "name": "stdout",
     "output_type": "stream",
     "text": [
      "Numbers less than 33 : [1, 1, 2, 3, 5, 8, 13, 21]\n"
     ]
    }
   ],
   "source": [
    "######################################################## TASK 1 ############################################################\n",
    "\n",
    "#Including Extra\n",
    "num=int(input(\"\\nEnter a number: \"))                         #input from the user\n",
    "List_displayed=[i for i in a if i < num]                      #comprehensive listing\n",
    "print(\"Numbers less than\", num, \":\", List_displayed)"
   ]
  },
  {
   "cell_type": "code",
   "execution_count": 4,
   "id": "5172de6f-1581-4e75-b027-e736864553db",
   "metadata": {},
   "outputs": [
    {
     "name": "stdin",
     "output_type": "stream",
     "text": [
      "\n",
      "Enter a long string:  hello\n"
     ]
    },
    {
     "name": "stdout",
     "output_type": "stream",
     "text": [
      "olleh\n"
     ]
    }
   ],
   "source": [
    "######################################################## TASK 2 ############################################################\n",
    "\n",
    "user_string=input(\"\\nEnter a long string: \")\n",
    "\n",
    "user_string=user_string[::-1]\n",
    "print(user_string)"
   ]
  },
  {
   "cell_type": "code",
   "execution_count": 6,
   "id": "0e348789-e32e-49b0-b360-a6d48bac8bf8",
   "metadata": {},
   "outputs": [
    {
     "name": "stdin",
     "output_type": "stream",
     "text": [
      "Enter a string:  Radar a RaDAR\n"
     ]
    },
    {
     "name": "stdout",
     "output_type": "stream",
     "text": [
      "it's a palindrome\n"
     ]
    }
   ],
   "source": [
    "######################################################## TASK 3 ############################################################\n",
    "\n",
    "user_input=input(\"Enter a string: \")\n",
    "\n",
    "s=user_input.lower().replace(\" \", \"\")   # make it case-insensitive and ignore spaces\n",
    "\n",
    "if s==s[::-1]:\n",
    "    print(\"it's a palindrome\")\n",
    "else:\n",
    "    print(\"it's not a palindrome\")"
   ]
  },
  {
   "cell_type": "code",
   "execution_count": null,
   "id": "523d8424-c0d8-49ef-8d5a-35adfdfe93a6",
   "metadata": {},
   "outputs": [],
   "source": []
  }
 ],
 "metadata": {
  "kernelspec": {
   "display_name": "Python 3 (ipykernel)",
   "language": "python",
   "name": "python3"
  },
  "language_info": {
   "codemirror_mode": {
    "name": "ipython",
    "version": 3
   },
   "file_extension": ".py",
   "mimetype": "text/x-python",
   "name": "python",
   "nbconvert_exporter": "python",
   "pygments_lexer": "ipython3",
   "version": "3.10.12"
  }
 },
 "nbformat": 4,
 "nbformat_minor": 5
}
