{
 "cells": [
  {
   "cell_type": "code",
   "execution_count": 1,
   "id": "2281799c-3d21-40a7-85fb-8540bd33758c",
   "metadata": {},
   "outputs": [
    {
     "name": "stdout",
     "output_type": "stream",
     "text": [
      "hello world\n"
     ]
    }
   ],
   "source": [
    "print(\"hello world\")"
   ]
  },
  {
   "cell_type": "code",
   "execution_count": 4,
   "id": "147b0830-9e0b-4667-bfe7-3b017007958f",
   "metadata": {},
   "outputs": [
    {
     "name": "stdout",
     "output_type": "stream",
     "text": [
      "info\n",
      "Hassam 24 Lahore\n"
     ]
    }
   ],
   "source": [
    "# Single variable\n",
    "s = \"info\"\n",
    "print(s)\n",
    "\n",
    "# Multiple Variables\n",
    "s = \"Hassam\"\n",
    "age = 24\n",
    "city = \"Lahore\"\n",
    "print(s, age, city)"
   ]
  },
  {
   "cell_type": "code",
   "execution_count": 11,
   "id": "79ac5dcd-07ce-430c-9ec6-17333307ee37",
   "metadata": {},
   "outputs": [
    {
     "name": "stdin",
     "output_type": "stream",
     "text": [
      "Enter three values:  1 1111 3333\n"
     ]
    },
    {
     "name": "stdout",
     "output_type": "stream",
     "text": [
      "Value of x :  1\n",
      "value of y :  1111\n",
      "value of z :  3333\n"
     ]
    }
   ],
   "source": [
    "x, y, z = input(\"Enter three values: \").split()\n",
    "print(\"Value of x : \", x)\n",
    "print(\"value of y : \", y)\n",
    "print(\"value of z : \", z)"
   ]
  },
  {
   "cell_type": "code",
   "execution_count": 14,
   "id": "c5573704-2c3a-4598-a24a-eb5d49a73230",
   "metadata": {},
   "outputs": [
    {
     "name": "stdin",
     "output_type": "stream",
     "text": [
      "Enter your age*should be in integers:  33.9\n"
     ]
    },
    {
     "name": "stdout",
     "output_type": "stream",
     "text": [
      "That's not a valid integer. Please try again.\n"
     ]
    }
   ],
   "source": [
    "# Prompting the user for input\n",
    "age_input = input(\"Enter your age*should be in integers: \")\n",
    "\n",
    "try:\n",
    "    age_input = int(age_input)\n",
    "    # Checking conditions based on user input\n",
    "    if age < 0:\n",
    "        print(\"Please enter a valid age.\")\n",
    "    elif age < 18:\n",
    "        print(\"You are a minor.\")\n",
    "    elif age >= 18 and age < 65:\n",
    "        print(\"You are an adult.\")\n",
    "    else:\n",
    "        print(\"You are a senior citizen.\")\n",
    "\n",
    "except ValueError:\n",
    "    print(\"That's not a valid integer. Please try again.\")"
   ]
  },
  {
   "cell_type": "code",
   "execution_count": 15,
   "id": "77583404-708d-458e-9338-19cbc36275dc",
   "metadata": {},
   "outputs": [
    {
     "name": "stdin",
     "output_type": "stream",
     "text": [
      "Price of each rose?:  22.645\n"
     ]
    },
    {
     "name": "stdout",
     "output_type": "stream",
     "text": [
      "22.645\n"
     ]
    }
   ],
   "source": [
    "price = float(input(\"Price of each rose?: \"))\n",
    "print(price)"
   ]
  },
  {
   "cell_type": "code",
   "execution_count": 17,
   "id": "59138c14-fb81-4d78-bbc3-6641f5ebce37",
   "metadata": {},
   "outputs": [
    {
     "name": "stdin",
     "output_type": "stream",
     "text": [
      "Price of each rose?:  323.321\n"
     ]
    },
    {
     "data": {
      "text/plain": [
       "323.321"
      ]
     },
     "execution_count": 17,
     "metadata": {},
     "output_type": "execute_result"
    }
   ],
   "source": [
    "price = float(input(\"Price of each rose?: \"))\n",
    "price"
   ]
  },
  {
   "cell_type": "code",
   "execution_count": 18,
   "id": "b76a076c-3533-4236-8792-deabb49a21a3",
   "metadata": {},
   "outputs": [
    {
     "name": "stdout",
     "output_type": "stream",
     "text": [
      "<class 'str'>\n",
      "<class 'int'>\n",
      "<class 'float'>\n",
      "<class 'tuple'>\n",
      "<class 'list'>\n",
      "<class 'dict'>\n"
     ]
    }
   ],
   "source": [
    "a = \"Hello World\"\n",
    "b = 10\n",
    "c = 11.22\n",
    "d = (\"Geeks\", \"for\", \"Geeks\")\n",
    "e = [\"Geeks\", \"for\", \"Geeks\"]\n",
    "f = {\"Geeks\": 1, \"for\":2, \"Geeks\":3}\n",
    "\n",
    "\n",
    "print(type(a))\n",
    "print(type(b))\n",
    "print(type(c))\n",
    "print(type(d))\n",
    "print(type(e))\n",
    "print(type(f))"
   ]
  },
  {
   "cell_type": "code",
   "execution_count": 46,
   "id": "b8624d4d-7f74-4ae0-95dc-fc59539d3120",
   "metadata": {},
   "outputs": [
    {
     "name": "stdout",
     "output_type": "stream",
     "text": [
      "1\n",
      "1\n",
      "2\n",
      "3\n"
     ]
    }
   ],
   "source": [
    "a=[1,1,2,3,5,8,13,21,34,55,89]\n",
    "for i in a:\n",
    "    if i<5:\n",
    "        print(i)"
   ]
  },
  {
   "cell_type": "code",
   "execution_count": 25,
   "id": "d9155f3e-b9af-4240-a8b2-5ffc9428b041",
   "metadata": {},
   "outputs": [
    {
     "name": "stdout",
     "output_type": "stream",
     "text": [
      "f{name} 70\n"
     ]
    }
   ],
   "source": [
    "data = {\n",
    "    \"students\": [\n",
    "        {\"name\": \"Alice\", \"marks\": (90, 85, 88)},\n",
    "        {\"name\": \"Bob\", \"marks\": (75, 80, 70)}\n",
    "    ]\n",
    "}\n",
    "\n",
    "print(\"f{name}\",data[\"students\"][1][\"marks\"][2]) "
   ]
  },
  {
   "cell_type": "code",
   "execution_count": 6,
   "id": "957713aa-bd2f-445d-b749-a5fa12035e1b",
   "metadata": {},
   "outputs": [
    {
     "name": "stdout",
     "output_type": "stream",
     "text": [
      "[1, 2, 3, 4, 5, 6]\n"
     ]
    }
   ],
   "source": [
    "a = [\"a\", \"b\", 1, 2, 3, [\"c\", \"d\", 4, 5, 6]]\n",
    "integers = []\n",
    "\n",
    "for i in a:\n",
    "    if isinstance(i, int):\n",
    "        integers.append(i)\n",
    "    elif isinstance(i, list):\n",
    "        integers.extend([b for b in i if isinstance(b, int)])\n",
    "\n",
    "print(integers)"
   ]
  },
  {
   "cell_type": "code",
   "execution_count": 8,
   "id": "a1e2e494-939c-4c3f-9ebc-48069b7c9f2d",
   "metadata": {},
   "outputs": [
    {
     "name": "stdout",
     "output_type": "stream",
     "text": [
      "[1, 1, 2, 3]\n"
     ]
    }
   ],
   "source": [
    "a=[1, 1, 2, 3, 5, 8, 13, 21, 34, 55, 89]\n",
    "b=[]\n",
    "for i in a:\n",
    "    if i<5:\n",
    "        b.append(i)\n",
    "print(b)"
   ]
  },
  {
   "cell_type": "code",
   "execution_count": 48,
   "id": "006692bd-a2b0-4898-9317-315940c0e1a7",
   "metadata": {},
   "outputs": [
    {
     "name": "stdout",
     "output_type": "stream",
     "text": [
      "[1, 1, 2, 3]\n"
     ]
    }
   ],
   "source": [
    "b=[i for i in a if i < 5]\n",
    "print(b)"
   ]
  },
  {
   "cell_type": "code",
   "execution_count": 51,
   "id": "b6d29c6a-f0b5-443c-a1b7-044bd15cd316",
   "metadata": {},
   "outputs": [
    {
     "name": "stdin",
     "output_type": "stream",
     "text": [
      "\n",
      "Enter a number:  22\n"
     ]
    },
    {
     "name": "stdout",
     "output_type": "stream",
     "text": [
      "Numbers less than 22 : [1, 1, 2, 3, 5, 8, 13, 21]\n"
     ]
    }
   ],
   "source": [
    "num=int(input(\"\\nEnter a number: \"))\n",
    "List_displayed=[i for i in a if i < num]\n",
    "print(\"Numbers less than\", num, \":\", List_displayed)"
   ]
  },
  {
   "cell_type": "code",
   "execution_count": 54,
   "id": "c9cbdb73-4cdb-4aa1-9475-629d9da7906b",
   "metadata": {},
   "outputs": [
    {
     "name": "stdin",
     "output_type": "stream",
     "text": [
      "\n",
      "Enter a long string:  my name is hassam\n"
     ]
    },
    {
     "name": "stdout",
     "output_type": "stream",
     "text": [
      "massah si eman ym\n"
     ]
    }
   ],
   "source": [
    "user_string=input(\"\\nEnter a long string: \")\n",
    "\n",
    "user_string=user_string[::-1]\n",
    "print(user_string)"
   ]
  },
  {
   "cell_type": "code",
   "execution_count": 5,
   "id": "225f7e48-140a-4ae8-8de9-e71a792b8391",
   "metadata": {},
   "outputs": [
    {
     "name": "stdin",
     "output_type": "stream",
     "text": [
      "Enter a string:  radar is radar\n"
     ]
    },
    {
     "name": "stdout",
     "output_type": "stream",
     "text": [
      "it's not a palindrome\n"
     ]
    }
   ],
   "source": [
    "user_input=input(\"Enter a string: \")\n",
    "\n",
    "s=user_input.lower().replace(\" \", \"\")   # make it case-insensitive and ignore spaces\n",
    "\n",
    "if s==s[::-1]:\n",
    "    print(\"it's a palindrome\")\n",
    "else:\n",
    "    print(\"it's not a palindrome\")"
   ]
  },
  {
   "cell_type": "code",
   "execution_count": null,
   "id": "3ae168b0-1926-4f85-87c9-882db4adf986",
   "metadata": {},
   "outputs": [],
   "source": []
  }
 ],
 "metadata": {
  "kernelspec": {
   "display_name": "Python 3 (ipykernel)",
   "language": "python",
   "name": "python3"
  },
  "language_info": {
   "codemirror_mode": {
    "name": "ipython",
    "version": 3
   },
   "file_extension": ".py",
   "mimetype": "text/x-python",
   "name": "python",
   "nbconvert_exporter": "python",
   "pygments_lexer": "ipython3",
   "version": "3.10.12"
  }
 },
 "nbformat": 4,
 "nbformat_minor": 5
}
