{
 "cells": [
  {
   "cell_type": "code",
   "execution_count": 7,
   "id": "94c7f483-11f0-45eb-9c33-e88d4227fe58",
   "metadata": {},
   "outputs": [
    {
     "name": "stdin",
     "output_type": "stream",
     "text": [
      "Enter the radius of the circle (in any unit):  7\n"
     ]
    },
    {
     "name": "stdout",
     "output_type": "stream",
     "text": [
      "Area of the circle: 153.93804002589985\n",
      "Perimeter (circumference) of the circle: 43.982297150257104\n"
     ]
    }
   ],
   "source": [
    "# 1- Write a Python program to create a class representing a Circle. Include methods to calculate its area and perimeter.\n",
    "import math\n",
    "\n",
    "class Circle:\n",
    "    def __init__(self, radius):\n",
    "        self.radius = radius\n",
    "\n",
    "    def area(self):\n",
    "        return math.pi * self.radius ** 2\n",
    "\n",
    "    def perimeter(self):\n",
    "        return 2 * math.pi * self.radius\n",
    "\n",
    "# User input\n",
    "radius = float(input(\"Enter the radius of the circle (in any unit): \"))\n",
    "\n",
    "circle = Circle(radius)\n",
    "\n",
    "print(f\"Area of the circle: {circle.area()}\")\n",
    "print(f\"Perimeter (circumference) of the circle: {circle.perimeter()}\")"
   ]
  },
  {
   "cell_type": "code",
   "execution_count": 11,
   "id": "d8aa56df-c94f-4cd7-9e56-0174a90aa827",
   "metadata": {},
   "outputs": [
    {
     "name": "stdin",
     "output_type": "stream",
     "text": [
      "Enter first number:  3\n",
      "Enter second number:  3\n",
      "Choose operation (+, -, *, /):  +\n"
     ]
    },
    {
     "name": "stdout",
     "output_type": "stream",
     "text": [
      "Result: 6.0\n"
     ]
    }
   ],
   "source": [
    "# 2- Write a Python program to create a calculator class. Include methods for basic arithmetic operations. \n",
    "\n",
    "class Calculator:\n",
    "    def add(self, a, b): return a+b\n",
    "    def subtract(self, a, b): return a-b\n",
    "    def multiply(self, a, b): return a*b\n",
    "    def divide(self, a, b): return a/b if b!=0 else \"Error: Division by zero\"\n",
    "\n",
    "calc=Calculator()\n",
    "a= float(input(\"Enter first number: \"))\n",
    "b=float(input(\"Enter second number: \"))\n",
    "operation=input(\"Choose operation (+, -, *, /): \")\n",
    "\n",
    "if operation=='+': print(\"Result:\", calc.add(a, b))\n",
    "elif operation=='-': print(\"Result:\", calc.subtract(a, b))\n",
    "elif operation=='*': print(\"Result:\", calc.multiply(a, b))\n",
    "elif operation=='/': print(\"Result:\", calc.divide(a, b))\n",
    "else: print(\"Invalid operation\")"
   ]
  },
  {
   "cell_type": "code",
   "execution_count": 12,
   "id": "463e38eb-a68a-449c-b3ac-84771a0d413e",
   "metadata": {},
   "outputs": [
    {
     "name": "stdout",
     "output_type": "stream",
     "text": [
      "Pop: 2\n",
      "Pop: 1\n",
      "Pop: Stack is empty\n"
     ]
    }
   ],
   "source": [
    "# 3- Write a Python program to create a class representing a stack data structure. Include methods for pushing and popping elements. \n",
    "\n",
    "class Stack:\n",
    "    def __init__(self):\n",
    "        self.stack = []\n",
    "\n",
    "    def push(self, item):\n",
    "        self.stack.append(item)\n",
    "\n",
    "    def pop(self):\n",
    "        if self.stack:\n",
    "            return self.stack.pop()\n",
    "        return \"Stack is empty\"\n",
    "\n",
    "s = Stack()\n",
    "s.push(1)\n",
    "s.push(2)\n",
    "print(\"Pop:\", s.pop())\n",
    "print(\"Pop:\", s.pop())\n",
    "print(\"Pop:\", s.pop())"
   ]
  },
  {
   "cell_type": "code",
   "execution_count": 10,
   "id": "fe83ca5b-1f8e-4c64-9f99-0fc60791997a",
   "metadata": {},
   "outputs": [
    {
     "name": "stdout",
     "output_type": "stream",
     "text": [
      "10 -> 20 -> 30 -> None\n",
      "10 -> 30 -> None\n"
     ]
    }
   ],
   "source": [
    "# 4- Write a Python program to create a class representing a linked list data structure. Include methods for displaying linked list data, inserting and deleting nodes.\n",
    "class Node:\n",
    "    def __init__(self, data):\n",
    "        self.data = data\n",
    "        self.next = None\n",
    "\n",
    "class LinkedList:\n",
    "    def __init__(self):\n",
    "        self.head = None\n",
    "\n",
    "    def display(self):\n",
    "        current = self.head\n",
    "        while current:\n",
    "            print(current.data, end=\" -> \")\n",
    "            current = current.next\n",
    "        print(\"None\")\n",
    "\n",
    "    def insert(self, data):\n",
    "        new_node = Node(data)\n",
    "        new_node.next = self.head\n",
    "        self.head = new_node\n",
    "\n",
    "    def delete(self, key):\n",
    "        temp = self.head\n",
    "        if temp and temp.data == key:\n",
    "            self.head = temp.next\n",
    "            return\n",
    "        prev = None\n",
    "        while temp and temp.data != key:\n",
    "            prev = temp\n",
    "            temp = temp.next\n",
    "        if temp:\n",
    "            prev.next = temp.next\n",
    "\n",
    "ll = LinkedList()\n",
    "ll.insert(30)\n",
    "ll.insert(20)\n",
    "ll.insert(10)\n",
    "ll.display()\n",
    "ll.delete(20)\n",
    "ll.display()"
   ]
  },
  {
   "cell_type": "code",
   "execution_count": 13,
   "id": "ea5f7406-6c98-4a2a-9993-0c7cb8092972",
   "metadata": {},
   "outputs": [
    {
     "name": "stdout",
     "output_type": "stream",
     "text": [
      "Total Price: 12.99\n"
     ]
    }
   ],
   "source": [
    "# 5- Write a Python program to create a class representing a shopping cart. Include methods for adding and removing items, and calculating the total price. \n",
    "class ShoppingCart:\n",
    "    def __init__(self):\n",
    "        self.items = {}\n",
    "\n",
    "    def add_item(self, name, price):\n",
    "        self.items[name] = price\n",
    "\n",
    "    def remove_item(self, name):\n",
    "        if name in self.items:\n",
    "            del self.items[name]\n",
    "\n",
    "    def total(self):\n",
    "        return sum(self.items.values())\n",
    "\n",
    "cart = ShoppingCart()\n",
    "cart.add_item(\"Book\", 12.99)\n",
    "cart.add_item(\"Pen\", 1.49)\n",
    "cart.remove_item(\"Pen\")\n",
    "print(\"Total Price:\", cart.total())"
   ]
  },
  {
   "cell_type": "code",
   "execution_count": 14,
   "id": "5f00d874-819d-4feb-b3f0-442283cab6b5",
   "metadata": {},
   "outputs": [
    {
     "name": "stdout",
     "output_type": "stream",
     "text": [
      "Dequeue: 5\n",
      "Dequeue: 10\n",
      "Dequeue: Queue is empty\n"
     ]
    }
   ],
   "source": [
    "# 6- Write a Python program to create a class representing a queue data structure. Include methods for enqueueing and dequeueing elements.\n",
    "class Queue:\n",
    "    def __init__(self):\n",
    "        self.queue = []\n",
    "\n",
    "    def enqueue(self, item):\n",
    "        self.queue.append(item)\n",
    "\n",
    "    def dequeue(self):\n",
    "        if self.queue:\n",
    "            return self.queue.pop(0)\n",
    "        return \"Queue is empty\"\n",
    "\n",
    "q = Queue()\n",
    "q.enqueue(5)\n",
    "q.enqueue(10)\n",
    "print(\"Dequeue:\", q.dequeue())\n",
    "print(\"Dequeue:\", q.dequeue())\n",
    "print(\"Dequeue:\", q.dequeue())"
   ]
  },
  {
   "cell_type": "code",
   "execution_count": 18,
   "id": "264a86b2-0fb9-4e3c-b04c-2706dbc020c1",
   "metadata": {},
   "outputs": [
    {
     "name": "stdout",
     "output_type": "stream",
     "text": [
      "Ali's Balance: 800\n",
      "Transaction History:\n",
      "Deposited 1000\n",
      "Withdrew 200\n",
      "Sara's Balance: 400\n",
      "Transaction History:\n",
      "Deposited 500\n",
      "Withdrew 100\n"
     ]
    }
   ],
   "source": [
    "# 8- Write a Python program to create a class representing a bank. Include methods for managing customer accounts and transactions. \n",
    "class BankAccount:\n",
    "    def __init__(self, owner):\n",
    "        self.owner = owner\n",
    "        self.balance = 0\n",
    "        self.transactions = []\n",
    "\n",
    "    def deposit(self, amount):\n",
    "        self.balance += amount\n",
    "        self.transactions.append(f\"Deposited {amount}\")\n",
    "\n",
    "    def withdraw(self, amount):\n",
    "        if amount <= self.balance:\n",
    "            self.balance -= amount\n",
    "            self.transactions.append(f\"Withdrew {amount}\")\n",
    "        else:\n",
    "            print(\"Insufficient funds\")\n",
    "\n",
    "    def display(self):\n",
    "        print(f\"{self.owner}'s Balance: {self.balance}\")\n",
    "\n",
    "    def print_history(self):\n",
    "        print(\"Transaction History:\")\n",
    "        for t in self.transactions:\n",
    "            print(t)\n",
    "\n",
    "acc = BankAccount(\"Ali\")\n",
    "acc.deposit(1000)\n",
    "acc.withdraw(200)\n",
    "acc.display()\n",
    "acc.print_history()\n",
    "\n",
    "acc2 = BankAccount(\"Sara\")\n",
    "acc2.deposit(500)\n",
    "acc2.withdraw(100)\n",
    "acc2.display()\n",
    "acc2.print_history()"
   ]
  },
  {
   "cell_type": "code",
   "execution_count": 16,
   "id": "c2071c3b-52e1-4f7b-bc03-38553be02cd9",
   "metadata": {},
   "outputs": [
    {
     "name": "stdout",
     "output_type": "stream",
     "text": [
      "Rectangle area: 20\n",
      "Circle area: 28.274333882308138\n"
     ]
    }
   ],
   "source": [
    "# 9- Create an interface Shape with methods area() and perimeter(). Implement this interface in Rectangle and Circle classes.\n",
    "class Shape():\n",
    "    def area(self): pass\n",
    "    def perimeter(self): pass\n",
    "\n",
    "class Rectangle(Shape):\n",
    "    def __init__(self, width, height):\n",
    "        self.width = width\n",
    "        self.height = height\n",
    "\n",
    "    def area(self):\n",
    "        return self.width * self.height\n",
    "\n",
    "    def perimeter(self):\n",
    "        return 2 * (self.width + self.height)\n",
    "\n",
    "class CircleShape(Shape):\n",
    "    def __init__(self, radius):\n",
    "        self.radius = radius\n",
    "\n",
    "    def area(self):\n",
    "        return math.pi * self.radius ** 2\n",
    "\n",
    "    def perimeter(self):\n",
    "        return 2 * math.pi * self.radius\n",
    "\n",
    "rect = Rectangle(4, 5)\n",
    "circ = CircleShape(3)\n",
    "print(\"Rectangle area:\", rect.area())\n",
    "print(\"Circle area:\", circ.area())"
   ]
  },
  {
   "cell_type": "code",
   "execution_count": 17,
   "id": "fc643266-8338-4c2f-9b2d-da06e8e0ddb0",
   "metadata": {},
   "outputs": [
    {
     "name": "stdout",
     "output_type": "stream",
     "text": [
      "Current balance: 50\n"
     ]
    }
   ],
   "source": [
    "# 10- mplement a class Account with a private attribute balance and provide methods to deposit and withdraw safely, checking for sufficient funds.\n",
    "class Account:\n",
    "    def __init__(self):\n",
    "        self.__balance=0\n",
    "\n",
    "    def deposit(self, amount):\n",
    "        if amount>0:\n",
    "            self.__balance += amount\n",
    "\n",
    "    def withdraw(self, amount):\n",
    "        if 0<amount<=self.__balance:\n",
    "            self.__balance-=amount\n",
    "        else:\n",
    "            print(\"Insufficient funds or invalid amount\")\n",
    "\n",
    "    def get_balance(self):\n",
    "        return self.__balance\n",
    "\n",
    "acc = Account()\n",
    "acc.deposit(100)\n",
    "acc.withdraw(50)\n",
    "print(\"Current balance:\", acc.get_balance())"
   ]
  },
  {
   "cell_type": "code",
   "execution_count": 19,
   "id": "677a865b-0f54-421f-96eb-ce0dbffd6e76",
   "metadata": {},
   "outputs": [
    {
     "name": "stdout",
     "output_type": "stream",
     "text": [
      "\n",
      "Name: Saad\n",
      "Age: 26\n",
      "Balance: Rs. 200675\n",
      "KYC Verified: True\n",
      "Bank: Global Bank\n",
      "Withdrawn: 30000\n",
      "Policy: Minimum balance should be Rs. 5000\n",
      "BankUser(Name: Saad, Age: 26, Balance: Rs. 170675, KYC: True)\n",
      "\n",
      "Method Resolution Order:\n",
      "(<class '__main__.BankUser'>, <class '__main__.Account'>, <class '__main__.Person'>, <class '__main__.KYC'>, <class 'object'>)\n"
     ]
    }
   ],
   "source": [
    "# The One I did while practicing OOP\n",
    "# Concepts covered: classes, inheritance, encapsulation, method overriding, constructor chaining, multiple inheritance, static methods, private attributes, method resolution order (MRO), object composition, and string representation\n",
    "\n",
    "class Person:\n",
    "    def __init__(self, name, age):\n",
    "        self.name = name\n",
    "        self.age = age\n",
    "\n",
    "    def __str__(self):\n",
    "        return f\"Person(Name: {self.name}, Age: {self.age})\"\n",
    "\n",
    "class Account(Person):\n",
    "    def __init__(self, name, age, balance):\n",
    "        super().__init__(name, age)\n",
    "        self.__balance = balance\n",
    "\n",
    "    def get_balance(self):\n",
    "        return self.__balance\n",
    "\n",
    "    def set_balance(self, amount):\n",
    "        if amount < 0:\n",
    "            print(\"Enter valid amount\")\n",
    "        else:\n",
    "            self.__balance = amount\n",
    "\n",
    "    def deposit(self, amount):\n",
    "        if amount > 0:\n",
    "            self.__balance += amount0\n",
    "            print(f\"Deposited: {amount}\")\n",
    "        else:\n",
    "            print(\"Deposit must be greater than 0\")\n",
    "\n",
    "    def withdraw(self, amount):\n",
    "        if 0 < amount <= self.__balance:\n",
    "            self.__balance -= amount\n",
    "            print(f\"Withdrawn: {amount}\")\n",
    "        else:\n",
    "            print(\"Not enough balance or invalid amount\")\n",
    "\n",
    "class KYC:\n",
    "    def __init__(self, kyc_verified):\n",
    "        self.kyc_verified = kyc_verified\n",
    "\n",
    "    def check_kyc(self):\n",
    "        if self.kyc_verified:\n",
    "            print(\"KYC Status: Verified\")\n",
    "        else:\n",
    "            print(\"KYC Status: Not Verified\")\n",
    "\n",
    "class BankUser(Account, KYC):\n",
    "    bank_name=\"Global Bank\"\n",
    "    total_users=0\n",
    "\n",
    "    def __init__(self, name, age, balance, kyc_verified):\n",
    "        Account.__init__(self, name, age, balance)\n",
    "        KYC.__init__(self, kyc_verified)\n",
    "        BankUser.total_users += 1\n",
    "\n",
    "    def display_user_info(self):\n",
    "        print(f\"\\nName: {self.name}\\nAge: {self.age}\\nBalance: Rs. {self.get_balance()}\\nKYC Verified: {self.kyc_verified}\\nBank: {self.bank_name}\")\n",
    "\n",
    "    def update_profile(self, name=None, age=None):\n",
    "        if name:\n",
    "            self.name=name\n",
    "        if age:\n",
    "            self.age=age\n",
    "        print(\"Profile updated.\")\n",
    "\n",
    "    @staticmethod\n",
    "    def show_policy():\n",
    "        print(\"Policy: Minimum balance should be Rs. 5000\")\n",
    "\n",
    "    def __str__(self):\n",
    "        return f\"BankUser(Name: {self.name}, Age: {self.age}, Balance: Rs. {self.get_balance()}, KYC: {self.kyc_verified})\"\n",
    "\n",
    "# Demonstration\n",
    "user = BankUser(\"Saad\", 26, 200675, True)\n",
    "user.display_user_info()\n",
    "user.withdraw(30000)\n",
    "BankUser.show_policy()\n",
    "print(user)\n",
    "print(\"\\nMethod Resolution Order:\")\n",
    "print(BankUser.__mro__)"
   ]
  },
  {
   "cell_type": "code",
   "execution_count": null,
   "id": "42e35caa-1a53-45dc-964f-f5e9382fa31d",
   "metadata": {},
   "outputs": [],
   "source": []
  }
 ],
 "metadata": {
  "kernelspec": {
   "display_name": "Python 3 (ipykernel)",
   "language": "python",
   "name": "python3"
  },
  "language_info": {
   "codemirror_mode": {
    "name": "ipython",
    "version": 3
   },
   "file_extension": ".py",
   "mimetype": "text/x-python",
   "name": "python",
   "nbconvert_exporter": "python",
   "pygments_lexer": "ipython3",
   "version": "3.12.3"
  }
 },
 "nbformat": 4,
 "nbformat_minor": 5
}
