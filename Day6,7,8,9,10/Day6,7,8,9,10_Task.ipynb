{
 "cells": [
  {
   "cell_type": "code",
   "execution_count": 8,
   "id": "8aa6a3e0-771d-440e-a56e-5d81cb4f7466",
   "metadata": {},
   "outputs": [
    {
     "name": "stdout",
     "output_type": "stream",
     "text": [
      "Delivering presents to Eric's house\n",
      "Delivering presents to Kenny's house\n",
      "Delivering presents to Kyle's house\n",
      "Delivering presents to Stan's house\n"
     ]
    }
   ],
   "source": [
    "houses = [\"Eric's house\", \"Kenny's house\", \"Kyle's house\", \"Stan's house\"]\n",
    "\n",
    "def deliver_presents_iteratively():\n",
    "    for house in houses:\n",
    "        print(\"Delivering presents to\", house)\n",
    "deliver_presents_iteratively()"
   ]
  },
  {
   "cell_type": "code",
   "execution_count": 14,
   "id": "e3ac07b9-ea08-4b97-a4fc-1ff1a6c3c07a",
   "metadata": {},
   "outputs": [
    {
     "name": "stdout",
     "output_type": "stream",
     "text": [
      "Delivering presents to Eric's house\n",
      "Delivering presents to Kenny's house\n",
      "Delivering presents to Kyle's house\n",
      "Delivering presents to Stan's house\n"
     ]
    }
   ],
   "source": [
    "houses = [\"Eric's house\", \"Kenny's house\", \"Kyle's house\", \"Stan's house\"]\n",
    "\n",
    "# Each function call represents an elf doing his work \n",
    "def deliver_presents_recursively(houses):\n",
    "    # Worker elf doing his work\n",
    "    if len(houses) == 1:\n",
    "        house = houses[0]\n",
    "        print(\"Delivering presents to\", house)\n",
    "\n",
    "    # Manager elf doing his work\n",
    "    else:\n",
    "        mid = len(houses) // 2\n",
    "        first_half = houses[:mid]\n",
    "        second_half = houses[mid:]\n",
    "\n",
    "        # Divides his work among two elves\n",
    "        deliver_presents_recursively(first_half)\n",
    "        deliver_presents_recursively(second_half)\n",
    "deliver_presents_recursively(houses)"
   ]
  },
  {
   "cell_type": "code",
   "execution_count": 17,
   "id": "8eb5bb39-e323-464b-bafc-134e3039de40",
   "metadata": {},
   "outputs": [
    {
     "data": {
      "text/plain": [
       "3628800"
      ]
     },
     "execution_count": 17,
     "metadata": {},
     "output_type": "execute_result"
    }
   ],
   "source": [
    "def factorial_recursive(n):\n",
    "    # Base case: 1! = 1\n",
    "    if n == 1:\n",
    "        return 1\n",
    "\n",
    "    # Recursive case: n! = n * (n-1)!\n",
    "    else:\n",
    "        return n * factorial_recursive(n-1)\n",
    "factorial_recursive(10)"
   ]
  },
  {
   "cell_type": "code",
   "execution_count": 18,
   "id": "656241cf-125e-4ae4-beca-0603b9926f60",
   "metadata": {},
   "outputs": [
    {
     "data": {
      "text/plain": [
       "[1, 46, -31, 'hello']"
      ]
     },
     "execution_count": 18,
     "metadata": {},
     "output_type": "execute_result"
    }
   ],
   "source": [
    "def attach_head(element, input_list):\n",
    "    return [element] + input_list\n",
    "attach_head(1,attach_head(46, attach_head(-31, attach_head(\"hello\", []))))"
   ]
  },
  {
   "cell_type": "code",
   "execution_count": 20,
   "id": "4c0a2425-f213-4c91-a542-f72ad2792fec",
   "metadata": {},
   "outputs": [
    {
     "name": "stdout",
     "output_type": "stream",
     "text": [
      "[1, 2, 3, 4, 5, 'apple', 'banana', 'cherry']\n"
     ]
    }
   ],
   "source": [
    "b=['apple', 'banana', 'cherry']\n",
    "a=[1, 2, 3, 4, 5]\n",
    "c= a+b\n",
    "print(c)"
   ]
  },
  {
   "cell_type": "code",
   "execution_count": 21,
   "id": "6e5e3325-cdae-42ac-b9c9-f3cbfaaf9838",
   "metadata": {},
   "outputs": [
    {
     "name": "stdout",
     "output_type": "stream",
     "text": [
      "{True, 'Geeks', 52.7, 'for', 10}\n"
     ]
    }
   ],
   "source": [
    "s = {\"Geeks\", \"for\", 10, 52.7, True}\n",
    "print(s)"
   ]
  },
  {
   "cell_type": "code",
   "execution_count": 22,
   "id": "cff839db-9ad9-4aec-bca1-3d860655cc29",
   "metadata": {},
   "outputs": [
    {
     "name": "stdout",
     "output_type": "stream",
     "text": [
      "Normal Set\n",
      "{'b', 'c', 'a'}\n",
      "\n",
      "Frozen Set\n",
      "frozenset({'g', 'e', 'f'})\n"
     ]
    }
   ],
   "source": [
    "# Same as {\"a\", \"b\",\"c\"}\n",
    "s = set([\"a\", \"b\",\"c\"])\n",
    "\n",
    "print(\"Normal Set\")\n",
    "print(s)\n",
    "\n",
    "# A frozen set\n",
    "fs = frozenset([\"e\", \"f\", \"g\"])\n",
    "\n",
    "print(\"\\nFrozen Set\")\n",
    "print(fs)"
   ]
  },
  {
   "cell_type": "code",
   "execution_count": 24,
   "id": "b7d0d172-afce-42d9-966d-a4bd435fb085",
   "metadata": {},
   "outputs": [
    {
     "name": "stdout",
     "output_type": "stream",
     "text": [
      "The car is moving.\n"
     ]
    }
   ],
   "source": [
    "class Car:\n",
    "    def drive(self):\n",
    "        print(\"The car is moving.\")\n",
    "\n",
    "my_car=Car()\n",
    "\n",
    "my_car.drive()"
   ]
  },
  {
   "cell_type": "code",
   "execution_count": 31,
   "id": "e8184533-a4e9-4b38-917a-0962b13697cb",
   "metadata": {},
   "outputs": [
    {
     "name": "stdout",
     "output_type": "stream",
     "text": [
      "Hi, my name is Hassam and I am 24 years old.\n"
     ]
    }
   ],
   "source": [
    "class Person:\n",
    "    def __init__(self,name,age):\n",
    "        self.name=name\n",
    "        self.age=age\n",
    "\n",
    "    def greet(self):\n",
    "        print(f\"Hi, my name is {self.name} and I am {self.age} years old.\")\n",
    "\n",
    "myself=Person(\"Hassam\", 24)\n",
    "\n",
    "myself.greet()"
   ]
  },
  {
   "cell_type": "code",
   "execution_count": 35,
   "id": "d8b63e40-33ff-4fbd-8567-fabf8148e95d",
   "metadata": {},
   "outputs": [
    {
     "name": "stdout",
     "output_type": "stream",
     "text": [
      "Book:ABC by xyz\n",
      "Book:XYZ by abc\n"
     ]
    }
   ],
   "source": [
    "class Book:\n",
    "    def __init__(self,title,author):\n",
    "        self.title=title\n",
    "        self.author=author\n",
    "    def details(self):\n",
    "        print(f\"Book:{self.title} by {self.author}\")\n",
    "book1=Book(\"ABC\", \"xyz\")\n",
    "book2=Book(\"XYZ\", \"abc\")\n",
    "\n",
    "book1.details()\n",
    "book2.details()"
   ]
  },
  {
   "cell_type": "code",
   "execution_count": 9,
   "id": "68d76f80-0442-4603-b95b-ae66cb394520",
   "metadata": {},
   "outputs": [
    {
     "name": "stdout",
     "output_type": "stream",
     "text": [
      "Hello, I am Hassam and I got A in the exam\n",
      "Hello, I am Ali and I got B in the exam\n"
     ]
    }
   ],
   "source": [
    "class Student:\n",
    "    def __init__(self, name, grade):\n",
    "        self.name=name\n",
    "        self.grade=grade\n",
    "    def introduce(self):\n",
    "        print(f\"Hello, I am {self.name} and I got {self.grade} in the exam\")\n",
    "stu1=Student(\"Hassam\",\"A\")\n",
    "stu2=Student(\"Ali\",\"B\")\n",
    "stu1.introduce()\n",
    "stu2.introduce()"
   ]
  },
  {
   "cell_type": "code",
   "execution_count": 22,
   "id": "deddd20f-ff26-483f-b09a-ec8fb6e4e4af",
   "metadata": {},
   "outputs": [
    {
     "name": "stdout",
     "output_type": "stream",
     "text": [
      "Title: English, Author: Waheed, Library: City Library\n",
      "Title: Urdu, Author: Tehzeeb, Library: City Library\n",
      "Title: Maths, Author: Hassam, Library: Lahore Library\n",
      "Title: Python, Author: Ahmad, Library: Lahore Library\n"
     ]
    }
   ],
   "source": [
    "class LibraryBook:\n",
    "    library_name=\"City Library\"\n",
    "    def __init__(self, title, author):\n",
    "        self.title=title\n",
    "        self.author=author\n",
    "    def book_info(self):\n",
    "        print(f\"Title: {self.title}, Author: {self.author}, Library: {self.library_name}\")\n",
    "\n",
    "book1=LibraryBook(\"English\",\"Waheed\")\n",
    "book2=LibraryBook(\"Urdu\",\"Tehzeeb\")\n",
    "book1.book_info()\n",
    "book2.book_info()\n",
    "\n",
    "LibraryBook.library_name=\"Lahore Library\"\n",
    "\n",
    "book3=LibraryBook(\"Maths\",\"Hassam\")\n",
    "book4=LibraryBook(\"Python\",\"Ahmad\")\n",
    "book3.book_info()\n",
    "book4.book_info()\n"
   ]
  },
  {
   "cell_type": "code",
   "execution_count": 31,
   "id": "f646b153-92b4-44a9-a723-4b8699344388",
   "metadata": {},
   "outputs": [
    {
     "name": "stdout",
     "output_type": "stream",
     "text": [
      "Ali\n",
      "Hassam\n"
     ]
    }
   ],
   "source": [
    "class Student:\n",
    "    def __init__(self, name):\n",
    "        self.__name = name  # public\n",
    "\n",
    "s = Student(\"Ali\")\n",
    "print(s._Student__name)\n",
    "s._Student__name=\"Hassam\"\n",
    "print(s._Student__name)"
   ]
  },
  {
   "cell_type": "code",
   "execution_count": 36,
   "id": "c36c4818-77e5-4383-9b5c-6a1c616d03ce",
   "metadata": {},
   "outputs": [
    {
     "name": "stdout",
     "output_type": "stream",
     "text": [
      "storage west\n",
      "storage east\n"
     ]
    }
   ],
   "source": [
    "class Warehouse:\n",
    "   purpose = 'storage'\n",
    "   region = 'west'\n",
    "\n",
    "w1 = Warehouse()\n",
    "print(w1.purpose, w1.region)\n",
    "w2 = Warehouse()\n",
    "w1.region = 'east'\n",
    "print(w2.purpose, w1.region)"
   ]
  },
  {
   "cell_type": "code",
   "execution_count": 44,
   "id": "baa4643f-7b48-4846-aa70-2d6af58310cc",
   "metadata": {},
   "outputs": [
    {
     "name": "stdout",
     "output_type": "stream",
     "text": [
      "(-1000, 'Hassam')\n"
     ]
    }
   ],
   "source": [
    "class Employee:\n",
    "    def __init__(self, name, salary):\n",
    "        self.__name = name\n",
    "        self.__salary = salary\n",
    "\n",
    "    def get_salary(self):       # getter\n",
    "        return self.__salary, self.__name\n",
    "\n",
    "    def set_salary(self, amount):  # setter\n",
    "        # if amount > 0:\n",
    "        self.__salary = amount\n",
    "        # else:\n",
    "        #     print(\"Invalid salary!\")\n",
    "\n",
    "# emp = Employee(\"Hassam\", 50000)\n",
    "# print(emp.get_salary())  # ✅ Safe read\n",
    "\n",
    "emp.set_salary(-1000)    # ❌ Invalid\n",
    "# emp.set_salary(60000)    # ✅ Updates\n",
    "print(emp.get_salary())"
   ]
  },
  {
   "cell_type": "code",
   "execution_count": 54,
   "id": "5490e36d-27b6-435e-8ea4-b3e9ddfb63c6",
   "metadata": {},
   "outputs": [
    {
     "name": "stdout",
     "output_type": "stream",
     "text": [
      "(50000, 'HP')\n",
      "(100000, 'HP')\n"
     ]
    }
   ],
   "source": [
    "class Laptop:\n",
    "    def __init__(self,price,brand):\n",
    "        self.__price=price\n",
    "        self.brand=brand\n",
    "\n",
    "    def get_price(self):\n",
    "        return self.__price,self.brand\n",
    "    def set_price(self, amount):\n",
    "        if amount>1000:\n",
    "            self.__price=amount\n",
    "        else:\n",
    "            print(\"enter valid amount\")\n",
    "\n",
    "value=Laptop(50000, \"HP\")\n",
    "print(value.get_price())\n",
    "\n",
    "value.set_price(100000)\n",
    "print(value.get_price())"
   ]
  },
  {
   "cell_type": "code",
   "execution_count": 56,
   "id": "2b642f4b-980a-45ae-a7ec-987e42d6fe41",
   "metadata": {},
   "outputs": [
    {
     "name": "stdout",
     "output_type": "stream",
     "text": [
      "inherting parent\n",
      "This animal makes a sound.\n"
     ]
    }
   ],
   "source": [
    "# Parent Class\n",
    "class Animal:\n",
    "    def speak(self):\n",
    "        print(\"This animal makes a sound.\")\n",
    "\n",
    "# Child Class\n",
    "class Dog(Animal):\n",
    "    print(\"inherting parent\")\n",
    "\n",
    "d = Dog()\n",
    "d.speak()   # Inherited from Animal"
   ]
  },
  {
   "cell_type": "code",
   "execution_count": 58,
   "id": "9fea8c13-680d-46a3-a66a-e1934e93b63f",
   "metadata": {},
   "outputs": [
    {
     "name": "stdout",
     "output_type": "stream",
     "text": [
      "Brand: Toyota\n",
      "Model: Corolla, Brand: Toyota\n"
     ]
    }
   ],
   "source": [
    "#Constructor Inheritance (super())\n",
    "class Vehicle:\n",
    "    def __init__(self, brand):\n",
    "        self.brand = brand\n",
    "\n",
    "    def show_brand(self):\n",
    "        print(f\"Brand: {self.brand}\")\n",
    "\n",
    "class Car(Vehicle):\n",
    "    def __init__(self, brand, model):\n",
    "        super().__init__(brand)         # Call parent constructor\n",
    "        self.model = model\n",
    "\n",
    "    def show_details(self):\n",
    "        print(f\"Model: {self.model}, Brand: {self.brand}\")\n",
    "\n",
    "c = Car(\"Toyota\", \"Corolla\")\n",
    "c.show_brand()     # From parent\n",
    "c.show_details()   # From child"
   ]
  },
  {
   "cell_type": "code",
   "execution_count": 10,
   "id": "c07522d0-1f1c-4e99-8b0b-64da459df180",
   "metadata": {},
   "outputs": [
    {
     "name": "stdout",
     "output_type": "stream",
     "text": [
      "Name: Hassam, Age: 24\n",
      "Name: Hassam, Age: 24, Grade: 2.88\n"
     ]
    }
   ],
   "source": [
    "class Person:\n",
    "    \n",
    "    def __init__(self, name, age):\n",
    "        self.name=name\n",
    "        self.age=age\n",
    "    \n",
    "    def introduce(self):\n",
    "        print(f\"Name: {self.name}, Age: {self.age}\")\n",
    "\n",
    "class Student(Person):\n",
    "    \n",
    "    def __init__(self, name, age, grade):\n",
    "        super().__init__(name,age)\n",
    "        self.grade=grade\n",
    "    \n",
    "    def dis_info(self):\n",
    "        print(f\"Name: {self.name}, Age: {self.age}, Grade: {self.grade}\")\n",
    "\n",
    "per=Student(\"Hassam\", 24, 2.88)\n",
    "per.introduce()\n",
    "per.dis_info()\n",
    "        "
   ]
  },
  {
   "cell_type": "code",
   "execution_count": 4,
   "id": "23a1e741-dfa7-4202-882f-abca4ba6f6ee",
   "metadata": {},
   "outputs": [
    {
     "name": "stdout",
     "output_type": "stream",
     "text": [
      "I am a person\n",
      "I work in IT\n",
      "I manage Teams\n"
     ]
    }
   ],
   "source": [
    "class Person:\n",
    "    def show_identity(self):\n",
    "        print(\"I am a person\")\n",
    "\n",
    "class Employee(Person):\n",
    "    def show_job(self):\n",
    "        print(\"I work in IT\")\n",
    "\n",
    "class Manager(Employee):\n",
    "    def show_role(self):\n",
    "        print(\"I manage Teams\")\n",
    "\n",
    "\n",
    "emp=Manager()\n",
    "emp.show_identity()\n",
    "emp.show_job()\n",
    "emp.show_role()"
   ]
  },
  {
   "cell_type": "code",
   "execution_count": 8,
   "id": "3748e324-a388-40df-be96-c47694c12968",
   "metadata": {},
   "outputs": [
    {
     "name": "stdout",
     "output_type": "stream",
     "text": [
      "I write code\n",
      "I test software\n",
      "I develop applications.\n"
     ]
    }
   ],
   "source": [
    "class Coder:\n",
    "    def code(self):\n",
    "        print(\"I write code\")\n",
    "\n",
    "class Tester:\n",
    "    def test(self):\n",
    "        print(\"I test software\")\n",
    "\n",
    "class Developer(Coder, Tester):\n",
    "    def develop(slef):\n",
    "        print(\"I develop applications.\")\n",
    "\n",
    "dev=Developer()\n",
    "dev.code()\n",
    "dev.test()\n",
    "dev.develop()"
   ]
  },
  {
   "cell_type": "code",
   "execution_count": 44,
   "id": "a838d374-6ac8-4fda-a59d-3c269d8e30e3",
   "metadata": {},
   "outputs": [
    {
     "name": "stdout",
     "output_type": "stream",
     "text": [
      "\n",
      "Name: Saad\n",
      "Age: 26\n",
      "Balance: 200675\n",
      "KYC Verified: True\n",
      "Bank: Global Bank\n",
      "Withdrawn: 30000\n",
      "Policy: Minimum balance should be Rs. 5000\n"
     ]
    },
    {
     "data": {
      "text/plain": [
       "170675"
      ]
     },
     "execution_count": 44,
     "metadata": {},
     "output_type": "execute_result"
    }
   ],
   "source": [
    "'''Topics covered'''\n",
    "# Class & Object\n",
    "# Constructor (__init__)\n",
    "# Instance Variables\n",
    "# Class Variables\n",
    "# Encapsulation (private variables with getters/setters)\n",
    "# Inheritance (single, multilevel, and now multiple)\n",
    "\n",
    "\n",
    "class Person:\n",
    "    def __init__(self, name, age):\n",
    "        self.name=name\n",
    "        self.age=age\n",
    "\n",
    "class Account(Person):\n",
    "    def __init__(self, name, age, balance):\n",
    "        super().__init__(name,age)\n",
    "        self.__balance=balance\n",
    "    def get_balance(self):\n",
    "        return self.__balance\n",
    "    def set_balance(self, amount):\n",
    "        if amount<0:\n",
    "            print(\"enter valid amount\")\n",
    "        else:\n",
    "            self.__balance=amount \n",
    "    def deposit(self, amount):\n",
    "        if amount > 0:\n",
    "            self.__balance += amount\n",
    "            print(f\"Deposited: {amount}\")\n",
    "        else:\n",
    "            print(\"Deposit must be greater than 0\")\n",
    "\n",
    "    def withdraw(self, amount):\n",
    "        if 0 < amount <= self.__balance:\n",
    "            self.__balance -= amount\n",
    "            print(f\"Withdrawn: {amount}\")\n",
    "        else:\n",
    "            print(\"Not enough balance or invalid amount\")\n",
    "class KYC:\n",
    "    def __init__(self, kyc_verified):\n",
    "        self.kyc_verified=kyc_verified\n",
    "    def check_kyc(self):\n",
    "        if self.kyc_verified:\n",
    "            print(\"KYC Status: Verified\")\n",
    "        else:\n",
    "            print(\"KYC Status: Not Verified\")\n",
    "\n",
    "class BankUser(Account, KYC):\n",
    "    bank_name=\"Global Bank\"\n",
    "    total_users=0\n",
    "    def __init__(self, name, age, balance, kyc_verified):\n",
    "        Account.__init__(self, name, age, balance)\n",
    "        KYC.__init__(self, kyc_verified)\n",
    "        BankUser.total_users += 1\n",
    "    def display_user_info(self):\n",
    "        print(f\"\\nName: {self.name}\\nAge: {self.age}\\nBalance: {self.get_balance()}\\nKYC Verified: {self.kyc_verified}\\nBank: {self.bank_name}\")\n",
    "    def update_profile(self, name=None, age=None):\n",
    "        if name:\n",
    "            self.name=name\n",
    "        if age:\n",
    "            self.age=age\n",
    "        print(\"Profile updated.\")\n",
    "    @staticmethod\n",
    "    def show_policy():\n",
    "        print(\"Policy: Minimum balance should be Rs. 5000\")\n",
    "\n",
    "\n",
    "\n",
    "user=BankUser(\"Saad\", 26, 200675, True)\n",
    "user.display_user_info()\n",
    "user.withdraw(30000)\n",
    "# user.update_profile(age=25)\n",
    "BankUser.show_policy()\n",
    "user.get_balance()"
   ]
  },
  {
   "cell_type": "code",
   "execution_count": 46,
   "id": "69e2a16c-befe-4883-a947-a6a1e1e8df48",
   "metadata": {},
   "outputs": [
    {
     "name": "stdout",
     "output_type": "stream",
     "text": [
      "Person speaks generally.\n",
      "Student asks questions.\n"
     ]
    }
   ],
   "source": [
    "class Person:\n",
    "    def speak(self):\n",
    "        print(\"Person speaks generally.\")\n",
    "\n",
    "class Teacher(Person):\n",
    "    def speak(self):\n",
    "        print(\"Teacher explains concepts.\")\n",
    "\n",
    "class Student(Person):\n",
    "    def speak(self):\n",
    "        print(\"Student asks questions.\")\n",
    "\n",
    "# Polymorphism in action\n",
    "people = [Person(), Teacher(), Student()]\n",
    "for p in people:\n",
    "    p.speak()"
   ]
  },
  {
   "cell_type": "code",
   "execution_count": 50,
   "id": "b53db8cd-5f2d-49e0-aac7-0e6d3b262c82",
   "metadata": {},
   "outputs": [
    {
     "name": "stdout",
     "output_type": "stream",
     "text": [
      "Woof!\n",
      "Meow!\n"
     ]
    }
   ],
   "source": [
    "class Dog:\n",
    "    def talk(self):\n",
    "        print(\"Woof!\")\n",
    "\n",
    "class Cat:\n",
    "    def talk(self):\n",
    "        print(\"Meow!\")\n",
    "\n",
    "def speak(xyz):\n",
    "    xyz.talk()\n",
    "    \n",
    "speak(Dog())  # Output: Woof!\n",
    "speak(Cat())  # Output: Meow!"
   ]
  },
  {
   "cell_type": "code",
   "execution_count": 60,
   "id": "15c05023-ba56-404e-baec-b5e7cedcb1d0",
   "metadata": {},
   "outputs": [
    {
     "name": "stdout",
     "output_type": "stream",
     "text": [
      "Hi, myself Hassam, and I'm a Software Engineer.\n",
      "Hi, my name is Saad, and I'm working as a BD Manager.\n",
      "wellcome!\n",
      "Hi, myself Hassam, and I'm a Software Engineer.\n",
      "Hi, my name is Hassam, and I'm working as a Software Engineer.\n",
      "Hello, I'm Hassam, and currently working as a Software Engineer.\n",
      "wellcome!\n"
     ]
    }
   ],
   "source": [
    "class Person:\n",
    "    def __init__(self, name, role):\n",
    "        self.name=name\n",
    "        self.role=role\n",
    "    def introduce(self):\n",
    "        print(f\"Hi, myself {self.name}, and I'm a {self.role}.\")\n",
    "\n",
    "class Student(Person):\n",
    "    def introduce(self):\n",
    "        print(f\"Hi, my name is {self.name}, and I'm working as a {self.role}.\")\n",
    "\n",
    "class Instructor(Person):\n",
    "    def introduce(self):\n",
    "        print(f\"Hello, I'm {self.name}, and currently working as a {self.role}.\")\n",
    "\n",
    "def welcome(person):\n",
    "    if hasattr(person, 'introduce'):\n",
    "        person.introduce()\n",
    "    else:\n",
    "        print(\"This object can't be welcomed!\")\n",
    "\n",
    "class GuestSpeaker:\n",
    "    def introduce(self):\n",
    "        print(f\"wellcome!\")\n",
    "\n",
    "welcome(Person(\"Hassam\",\"Software Engineer\"))\n",
    "welcome(Student(\"Saad\", \"BD Manager\"))\n",
    "welcome(GuestSpeaker())\n",
    "\n",
    "\n",
    "speaker=[Person(\"Hassam\",\"Software Engineer\"), Student(\"Hassam\",\"Software Engineer\"), Instructor(\"Hassam\",\"Software Engineer\"), GuestSpeaker()]\n",
    "for s in speaker:\n",
    "    s.introduce()"
   ]
  },
  {
   "cell_type": "code",
   "execution_count": null,
   "id": "2e63ff70-d484-4053-9c97-95fd03b4551c",
   "metadata": {},
   "outputs": [],
   "source": []
  }
 ],
 "metadata": {
  "kernelspec": {
   "display_name": "Python 3 (ipykernel)",
   "language": "python",
   "name": "python3"
  },
  "language_info": {
   "codemirror_mode": {
    "name": "ipython",
    "version": 3
   },
   "file_extension": ".py",
   "mimetype": "text/x-python",
   "name": "python",
   "nbconvert_exporter": "python",
   "pygments_lexer": "ipython3",
   "version": "3.12.3"
  }
 },
 "nbformat": 4,
 "nbformat_minor": 5
}
