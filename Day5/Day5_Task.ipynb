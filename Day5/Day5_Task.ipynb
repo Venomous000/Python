{
 "cells": [
  {
   "cell_type": "code",
   "execution_count": 1,
   "id": "4466e907-92fe-4a09-8adc-411c975cae83",
   "metadata": {},
   "outputs": [
    {
     "name": "stdout",
     "output_type": "stream",
     "text": [
      "Data type of num_string before Type Casting: <class 'str'>\n",
      "Data type of num_string after Type Casting: <class 'int'>\n",
      "Sum: 35\n",
      "Data type of num_sum: <class 'int'>\n"
     ]
    }
   ],
   "source": [
    "num_string = '12'\n",
    "num_integer = 23\n",
    "\n",
    "print(\"Data type of num_string before Type Casting:\",type(num_string))\n",
    "\n",
    "# explicit type conversion\n",
    "num_string = int(num_string)\n",
    "\n",
    "print(\"Data type of num_string after Type Casting:\",type(num_string))\n",
    "\n",
    "num_sum = num_integer + num_string\n",
    "\n",
    "print(\"Sum:\",num_sum)\n",
    "print(\"Data type of num_sum:\",type(num_sum))"
   ]
  },
  {
   "cell_type": "code",
   "execution_count": 9,
   "id": "4f9951d8-992a-4060-bca9-b8b282036638",
   "metadata": {},
   "outputs": [
    {
     "name": "stdout",
     "output_type": "stream",
     "text": [
      "31.2\n"
     ]
    }
   ],
   "source": [
    "try:\n",
    "    numerator = 156\n",
    "    denominator = 5\n",
    "\n",
    "    result = numerator/denominator\n",
    "\n",
    "    print(result)\n",
    "except:\n",
    "    print(\"Error: Denominator cannot be 0.\")"
   ]
  },
  {
   "cell_type": "code",
   "execution_count": 13,
   "id": "d6ecb3d1-1c4a-4d3b-890b-1aa1587998af",
   "metadata": {},
   "outputs": [
    {
     "name": "stdout",
     "output_type": "stream",
     "text": [
      "8\n"
     ]
    }
   ],
   "source": [
    "try:\n",
    "    even_numbers = [2,4,6,8]\n",
    "    print(even_numbers[3])\n",
    "\n",
    "except:\n",
    "    print(\"Denominator cannot be 0.\")"
   ]
  },
  {
   "cell_type": "code",
   "execution_count": null,
   "id": "7f4028cb-1248-4787-a973-0a42e69bcedd",
   "metadata": {},
   "outputs": [],
   "source": [
    "def find_square(num):\n",
    "    result = num * num\n",
    "    return result\n",
    "\n",
    "# function call\n",
    "square = find_square(3)\n",
    "square"
   ]
  },
  {
   "cell_type": "code",
   "execution_count": 17,
   "id": "e265c9bc-7ff7-4ef3-a6cb-76d5eedaf232",
   "metadata": {},
   "outputs": [
    {
     "name": "stdin",
     "output_type": "stream",
     "text": [
      "Enter a number:  4\n"
     ]
    },
    {
     "name": "stdout",
     "output_type": "stream",
     "text": [
      "0.25\n"
     ]
    }
   ],
   "source": [
    "try:\n",
    "    num = int(input(\"Enter a number: \"))\n",
    "    assert num % 2 == 0\n",
    "except:\n",
    "    print(\"Not an even number!\")\n",
    "else:\n",
    "    reciprocal = 1/num\n",
    "    print(reciprocal)"
   ]
  },
  {
   "cell_type": "code",
   "execution_count": null,
   "id": "46344292-e71b-4aab-ba17-b29937eed2e4",
   "metadata": {},
   "outputs": [],
   "source": []
  }
 ],
 "metadata": {
  "kernelspec": {
   "display_name": "Python 3 (ipykernel)",
   "language": "python",
   "name": "python3"
  },
  "language_info": {
   "codemirror_mode": {
    "name": "ipython",
    "version": 3
   },
   "file_extension": ".py",
   "mimetype": "text/x-python",
   "name": "python",
   "nbconvert_exporter": "python",
   "pygments_lexer": "ipython3",
   "version": "3.10.12"
  }
 },
 "nbformat": 4,
 "nbformat_minor": 5
}
